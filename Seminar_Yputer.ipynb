{
  "nbformat": 4,
  "nbformat_minor": 0,
  "metadata": {
    "colab": {
      "provenance": [],
      "collapsed_sections": [],
      "authorship_tag": "ABX9TyPeLGVkvjJ95K3j4Y0SEvLt",
      "include_colab_link": true
    },
    "kernelspec": {
      "name": "python3",
      "display_name": "Python 3"
    },
    "language_info": {
      "name": "python"
    }
  },
  "cells": [
    {
      "cell_type": "markdown",
      "metadata": {
        "id": "view-in-github",
        "colab_type": "text"
      },
      "source": [
        "<a href=\"https://colab.research.google.com/github/VictoriaDmitrieva24/Kontrol_work/blob/main/Seminar_Yputer.ipynb\" target=\"_parent\"><img src=\"https://colab.research.google.com/assets/colab-badge.svg\" alt=\"Open In Colab\"/></a>"
      ]
    },
    {
      "cell_type": "markdown",
      "source": [],
      "metadata": {
        "id": "d2GldxCXnOx4"
      }
    },
    {
      "cell_type": "markdown",
      "source": [
        "Дана функция f(x) = 5x^2 + 10x - 30\n",
        "\n",
        "1. Определить корни\n",
        "\n",
        "2. Найти интервалы, на которых функция возрастает\n",
        "\n",
        "3. Найти интервалы, на которых функция убывает\n",
        "\n",
        "4. Построить график\n",
        "\n",
        "5. Вычислить вершину\n",
        "\n",
        "6. Определить промежутки, на котором f > 0\n",
        "\n",
        "7. Определить промежутки, на котором f < 0"
      ],
      "metadata": {
        "id": "Ps0F2DzgnSNR"
      }
    },
    {
      "cell_type": "code",
      "execution_count": 1,
      "metadata": {
        "colab": {
          "base_uri": "https://localhost:8080/"
        },
        "id": "P2EO2CdVnF39",
        "outputId": "87fe9759-eb72-4e71-dc5f-efd6a53dcc71"
      },
      "outputs": [
        {
          "output_type": "stream",
          "name": "stdout",
          "text": [
            "[-1 + sqrt(7), -sqrt(7) - 1]\n"
          ]
        }
      ],
      "source": [
        "import sympy\n",
        "\n",
        "x = sympy.symbols('x')\n",
        "ans = sympy.solve(5*x**2 + 10*x - 30)#Где а-строка с уравнением\n",
        "print(ans)"
      ]
    },
    {
      "cell_type": "code",
      "source": [
        "import sympy\n",
        "x = sympy.symbols('x')\n",
        "f = 5*x**2 + 10*x - 30\n",
        "f_d = f.diff(x)\n",
        "sympy.solve(f_d > 0, x)\n"
      ],
      "metadata": {
        "colab": {
          "base_uri": "https://localhost:8080/",
          "height": 38
        },
        "id": "JSc28ydxnWQh",
        "outputId": "4817e7f2-6f54-42d1-8a54-036a8238bda5"
      },
      "execution_count": 4,
      "outputs": [
        {
          "output_type": "execute_result",
          "data": {
            "text/plain": [
              "(-1 < x) & (x < oo)"
            ],
            "text/latex": "$\\displaystyle -1 < x \\wedge x < \\infty$"
          },
          "metadata": {},
          "execution_count": 4
        }
      ]
    },
    {
      "cell_type": "code",
      "source": [
        "import sympy\n",
        "x = sympy.symbols('x')\n",
        "f = 5*x**2 + 10*x - 30\n",
        "f_d = f.diff(x)\n",
        "sympy.solve(f_d < 0, x)"
      ],
      "metadata": {
        "colab": {
          "base_uri": "https://localhost:8080/",
          "height": 38
        },
        "id": "DiOQX8uDoMCJ",
        "outputId": "7e6ac016-aea5-4f80-aefb-db961adf755c"
      },
      "execution_count": 3,
      "outputs": [
        {
          "output_type": "execute_result",
          "data": {
            "text/plain": [
              "(-oo < x) & (x < -1)"
            ],
            "text/latex": "$\\displaystyle -\\infty < x \\wedge x < -1$"
          },
          "metadata": {},
          "execution_count": 3
        }
      ]
    },
    {
      "cell_type": "code",
      "source": [
        "import matplotlib.pyplot as plt\n",
        "import sympy\n",
        "# x = sympy.symbols('x')\n",
        "# f = 5*x**2 + 10*x - 30\n",
        "# fig, ax = plt.subplots()\n",
        "# ax.plot(x, f)\n",
        "# plt.show()\n",
        "\n",
        "import sympy\n",
        "import matplotlib.pyplot as plt\n",
        "import numpy as np\n",
        "\n",
        "x = np.linspace(-100, 100)\n",
        "f = 5*x**2 + 10*x - 30  \n",
        " \n",
        "fig, ax = plt.subplots()\n",
        "ax.plot(x, f)\n",
        "plt.show()\n",
        "\n",
        "\n",
        "# x_list = list(range(0,10))\n",
        "# f_list = []\n",
        "# for num in x_list:\n",
        "#     x=float(x_list[num])\n",
        "#     f = 5*x**2 + 10*x - 30\n",
        "#     f_list.append(f)\n",
        " \n",
        "# plt.plot(x_list,f_list)\n",
        "# plt.show()\n",
        "\n"
      ],
      "metadata": {
        "colab": {
          "base_uri": "https://localhost:8080/",
          "height": 265
        },
        "id": "-mpWY-PeoOWI",
        "outputId": "7de30999-655b-4755-e76c-a74f7c88bdd9"
      },
      "execution_count": 14,
      "outputs": [
        {
          "output_type": "display_data",
          "data": {
            "text/plain": [
              "<Figure size 432x288 with 1 Axes>"
            ],
            "image/png": "[encoded data removed]"
          },
          "metadata": {
            "needs_background": "light"
          }
        }
      ]
    },
    {
      "cell_type": "code",
      "source": [
        "import sympy\n",
        "x = sympy.symbols('x')\n",
        "f = 5*x**2 + 10*x - 30\n",
        "f_d = f.diff(x)\n",
        "sympy.solve(f_d, x)"
      ],
      "metadata": {
        "colab": {
          "base_uri": "https://localhost:8080/"
        },
        "id": "RXX5sEiXt6NZ",
        "outputId": "0fe619e2-74fd-4d8f-db8d-70b6317026f5"
      },
      "execution_count": 16,
      "outputs": [
        {
          "output_type": "execute_result",
          "data": {
            "text/plain": [
              "[-1]"
            ]
          },
          "metadata": {},
          "execution_count": 16
        }
      ]
    }
  ]
}