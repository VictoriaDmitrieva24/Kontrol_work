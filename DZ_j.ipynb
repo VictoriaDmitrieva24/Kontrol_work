{
  "nbformat": 4,
  "nbformat_minor": 0,
  "metadata": {
    "colab": {
      "provenance": [],
      "collapsed_sections": [],
      "authorship_tag": "ABX9TyMYmDhNVZITv7PCo/sIrlnP",
      "include_colab_link": true
    },
    "kernelspec": {
      "name": "python3",
      "display_name": "Python 3"
    },
    "language_info": {
      "name": "python"
    }
  },
  "cells": [
    {
      "cell_type": "markdown",
      "metadata": {
        "id": "view-in-github",
        "colab_type": "text"
      },
      "source": [
        "<a href=\"https://colab.research.google.com/github/VictoriaDmitrieva24/Kontrol_work/blob/main/DZ_j.ipynb\" target=\"_parent\"><img src=\"https://colab.research.google.com/assets/colab-badge.svg\" alt=\"Open In Colab\"/></a>"
      ]
    },
    {
      "cell_type": "markdown",
      "source": [
        "f(x) = -12x^4*sin(cos(x)) - 18x^3+5x^2 + 10x - 30\n",
        "\n",
        "Определить корни\n",
        "\n",
        "Найти интервалы, на которых функция возрастает\n",
        "\n",
        "Найти интервалы, на которых функция убывает\n",
        "\n",
        "Построить график\n",
        "\n",
        "Вычислить вершину\n",
        "\n",
        "Определить промежутки, на котором f > 0\n",
        "\n",
        "Определить промежутки, на котором f < 0\n",
        "\n",
        "https://www.rupython.com/python-1941-20259.html"
      ],
      "metadata": {
        "id": "wbEWXBh2jLKq"
      }
    },
    {
      "cell_type": "code",
      "source": [
        "#Построение графика:\n",
        "import matplotlib.pyplot as plt\n",
        "import math\n",
        "\n",
        "x = [-12*(x**4)*math.sin(math.cos(x)) - 18*(x**3)+5*(x**2) + 10*x - 30 for x in range(-50,50)]\n",
        "y = [y for y in range(-50,50)]\n",
        "plt.plot(y,x, 'r')\n",
        "plt.grid()\n",
        "plt.show()"
      ],
      "metadata": {
        "colab": {
          "base_uri": "https://localhost:8080/",
          "height": 276
        },
        "id": "A_2t3AYKrSo8",
        "outputId": "83e89a51-f58f-42a4-f66e-e6504c81ea80"
      },
      "execution_count": null,
      "outputs": [
        {
          "output_type": "display_data",
          "data": {
            "text/plain": [
              "<Figure size 432x288 with 1 Axes>"
            ],
            "image/png": "[encoded data removed]"
          },
          "metadata": {
            "needs_background": "light"
          }
        }
      ]
    },
    {
      "cell_type": "code",
      "source": [
        "  #Корни методом дихотомии(деления отрезка пополам)\n",
        "import math\n",
        "import numpy as np\n",
        "# print(np.log(0))\n",
        "def f(x):\n",
        "    assert x!=0, 'Аргумент не может быть равен нулю'\n",
        "    return -12*(x**4)*math.sin(math.cos(x)) - 18*(x**3)+5*(x**2) + 10*x - 30\n",
        "\n",
        "# Функция метода дихотомии:\n",
        "def rec_dyhotomy(a, b, eps):\n",
        "    if abs(f(b) - f(a)) < eps:\n",
        "        print('Корень не найден')\n",
        "        return\n",
        "    mid = (a+b) / 2\n",
        "    if f(mid) == 0 or abs(f(mid)) < eps:\n",
        "        print(f'Корень по методу дихотомии находится в точке x = {mid}')\n",
        "    elif f(a)*f(mid) < 0:\n",
        "        rec_dyhotomy(a, mid, eps)\n",
        "    else:\n",
        "        rec_dyhotomy(mid, b, eps)\n",
        "\n",
        "rec_dyhotomy(0.0001,50, 0.0009)"
      ],
      "metadata": {
        "colab": {
          "base_uri": "https://localhost:8080/"
        },
        "id": "brwbzyis34NN",
        "outputId": "f61667e0-12a0-4174-e864-0de947110235"
      },
      "execution_count": 5,
      "outputs": [
        {
          "output_type": "stream",
          "name": "stdout",
          "text": [
            "Корень по методу дихотомии находится в точке x = 45.585801394595194\n"
          ]
        }
      ]
    },
    {
      "cell_type": "code",
      "source": [
        "#Общее решение нелинейного уравнения :\n",
        "from scipy.optimize import root,fsolve\n",
        "import numpy as np\n",
        "from matplotlib import pyplot as plt\n",
        "\n",
        "def f2(x):\n",
        "    return -12*(x**4)*np.sin(np.cos(x)) - 18*(x**3)+5*(x**2) + 10*x - 30\n",
        "x=np.linspace(-5,5,num=100)\n",
        "y=f2(x)\n",
        "root1 = fsolve (f2, [1]) # корень системы уравнений, равный 0\n",
        "root2=root(f2,[1])\n",
        "print(root1)\n",
        "print(root2)\n",
        "plt.plot(x,y,'r')\n",
        "plt.show()"
      ],
      "metadata": {
        "colab": {
          "base_uri": "https://localhost:8080/",
          "height": 491
        },
        "id": "hI6ZAVDe6enD",
        "outputId": "0cd722dd-ce6b-41f4-8cf6-da6051849677"
      },
      "execution_count": 17,
      "outputs": [
        {
          "output_type": "stream",
          "name": "stdout",
          "text": [
            "[0.45483458]\n",
            "    fjac: array([[-1.]])\n",
            "     fun: array([-26.51272439])\n",
            " message: 'The iteration is not making good progress, as measured by the \\n  improvement from the last ten iterations.'\n",
            "    nfev: 23\n",
            "     qtf: array([26.51272991])\n",
            "       r: array([-0.07535476])\n",
            "  status: 5\n",
            " success: False\n",
            "       x: array([0.45483458])\n"
          ]
        },
        {
          "output_type": "stream",
          "name": "stderr",
          "text": [
            "/usr/local/lib/python3.7/dist-packages/scipy/optimize/minpack.py:175: RuntimeWarning: The iteration is not making good progress, as measured by the \n",
            "  improvement from the last ten iterations.\n",
            "  warnings.warn(msg, RuntimeWarning)\n"
          ]
        },
        {
          "output_type": "display_data",
          "data": {
            "text/plain": [
              "<Figure size 432x288 with 1 Axes>"
            ],
            "image/png": "[encoded data removed]"
          },
          "metadata": {
            "needs_background": "light"
          }
        }
      ]
    }
  ]
}